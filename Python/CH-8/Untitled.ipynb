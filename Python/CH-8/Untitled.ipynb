{
 "cells": [
  {
   "cell_type": "code",
   "execution_count": 13,
   "metadata": {},
   "outputs": [
    {
     "name": "stdout",
     "output_type": "stream",
     "text": [
      "krishit 24\n",
      "Student name is krishit and age is 24\n"
     ]
    }
   ],
   "source": [
    "class Student:\n",
    "    name='krishit'\n",
    "    age=24\n",
    "    \n",
    "    def display(f):\n",
    "        print(f\"Student name is {f.name} and age is {f.age}\")\n",
    "s1=Student()\n",
    "print(s1.name,s1.age)\n",
    "s1.display()"
   ]
  },
  {
   "cell_type": "code",
   "execution_count": 2,
   "metadata": {},
   "outputs": [
    {
     "name": "stdout",
     "output_type": "stream",
     "text": [
      "Enter your name: krishit\n",
      "Enter your age: 12\n",
      "Student name is krishit and age is 12\n"
     ]
    }
   ],
   "source": [
    "class Student:\n",
    "\n",
    "    def display(self):\n",
    "        print(f\"Student name is {self.name} and age is {self.age}\")\n",
    "\n",
    "name = input(\"Enter your name: \")\n",
    "age = int(input(\"Enter your age: \"))\n",
    "\n",
    "s1 = Student()\n",
    "s1.name = name\n",
    "s1.age = age\n",
    "s1.display()"
   ]
  },
  {
   "cell_type": "code",
   "execution_count": 11,
   "metadata": {},
   "outputs": [
    {
     "name": "stdout",
     "output_type": "stream",
     "text": [
      "Enter your name: k\n",
      "Enter your age: 1\n",
      "Student name is k and age is 1\n"
     ]
    }
   ],
   "source": [
    "class Student:\n",
    "    def display(self,name,age):\n",
    "        self.name=name\n",
    "        self.age=age\n",
    "        print(f\"Student name is {self.name} and age is {self.age}\")\n",
    "\n",
    "name = input(\"Enter your name: \")\n",
    "age = int(input(\"Enter your age: \"))\n",
    "s1 = Student()\n",
    "s1.display(name,age)"
   ]
  },
  {
   "cell_type": "code",
   "execution_count": 16,
   "metadata": {},
   "outputs": [
    {
     "name": "stdout",
     "output_type": "stream",
     "text": [
      "Enter your name: k\n",
      "Enter your age: 1\n",
      "Student name is k and age is 1\n"
     ]
    }
   ],
   "source": [
    "class Student: \n",
    "    def __init__(self,name,age):\n",
    "        self.name=name\n",
    "        self.age=age\n",
    "        print(f\"Student name is {self.name} and age is {self.age}\")\n",
    "name = input(\"Enter your name: \")\n",
    "age = int(input(\"Enter your age: \"))\n",
    "s1 = Student(name,age)\n",
    "# s1.display()"
   ]
  },
  {
   "cell_type": "code",
   "execution_count": 22,
   "metadata": {},
   "outputs": [
    {
     "name": "stdout",
     "output_type": "stream",
     "text": [
      "Student name is k and age is 1\n",
      "object is deleted\n"
     ]
    }
   ],
   "source": [
    "class Student: \n",
    "    def __init__(self,name,age):\n",
    "        self.name=name\n",
    "        self.age=age\n",
    "        print(f\"Student name is {self.name} and age is {self.age}\")\n",
    "    def __del__(self):\n",
    "        print(\"object is deleted\")\n",
    "s1 = Student(name,age)\n",
    "del s1"
   ]
  },
  {
   "cell_type": "code",
   "execution_count": 26,
   "metadata": {},
   "outputs": [
    {
     "name": "stdout",
     "output_type": "stream",
     "text": [
      "6 10\n"
     ]
    }
   ],
   "source": [
    "class NumberSet:\n",
    "\n",
    "    def __init__(self,num1,num2):\n",
    "        self.num1=num1\n",
    "        self.num2=num2\n",
    "        print(self.num1,self.num2)\n",
    "\n",
    "t=NumberSet(6,10)    "
   ]
  },
  {
   "cell_type": "code",
   "execution_count": 31,
   "metadata": {},
   "outputs": [
    {
     "name": "stdout",
     "output_type": "stream",
     "text": [
      "8\n"
     ]
    }
   ],
   "source": [
    "class Animal:\n",
    "    def __init__(self, arms, legs):\n",
    "        self.arms = arms\n",
    "        self.legs = legs\n",
    "\n",
    "    def limbs(self):\n",
    "        return self.arms + self.legs\n",
    "\n",
    "spider = Animal(4, 4)\n",
    "spidlimbs = spider.limbs()\n",
    "print(spidlimbs)"
   ]
  },
  {
   "cell_type": "code",
   "execution_count": 46,
   "metadata": {},
   "outputs": [
    {
     "name": "stdout",
     "output_type": "stream",
     "text": [
      "car max speed is20 and mileage is 20\n",
      "bike max speed is20 and mileage is 20\n"
     ]
    }
   ],
   "source": [
    "class Vehicle:\n",
    "    def __init__(self,max_speed,mileage):\n",
    "        self.max_speed=max_speed\n",
    "        self.mileage=mileage\n",
    "        \n",
    "        print(f\"car max speed is{self.max_speed} and mileage is {self.mileage}\")\n",
    "        print(f\"bike max speed is{self.max_speed} and mileage is {self.mileage}\")\n",
    "a=Vehicle(20,20)"
   ]
  },
  {
   "cell_type": "code",
   "execution_count": 48,
   "metadata": {},
   "outputs": [
    {
     "name": "stdout",
     "output_type": "stream",
     "text": [
      "Car max speed is 20 and mileage is 20\n",
      "bike max speed is 60 and mileage is 20\n"
     ]
    }
   ],
   "source": [
    "class Vehicle:\n",
    "    def __init__(self, max_speed, mileage):\n",
    "        self.max_speed = max_speed\n",
    "        self.mileage = mileage\n",
    "\n",
    "    def car(self):\n",
    "        print(f\"Car max speed is {self.max_speed} and mileage is {self.mileage}\")\n",
    "    def bike(self):\n",
    "        print(f\"bike max speed is {self.max_speed} and mileage is {self.mileage}\")\n",
    "\n",
    "a = Vehicle(20, 20)\n",
    "a.car()\n",
    "a = Vehicle(60, 20)\n",
    "a.bike()"
   ]
  },
  {
   "cell_type": "code",
   "execution_count": null,
   "metadata": {},
   "outputs": [],
   "source": []
  }
 ],
 "metadata": {
  "kernelspec": {
   "display_name": "Python 3",
   "language": "python",
   "name": "python3"
  },
  "language_info": {
   "codemirror_mode": {
    "name": "ipython",
    "version": 3
   },
   "file_extension": ".py",
   "mimetype": "text/x-python",
   "name": "python",
   "nbconvert_exporter": "python",
   "pygments_lexer": "ipython3",
   "version": "3.8.5"
  }
 },
 "nbformat": 4,
 "nbformat_minor": 4
}
