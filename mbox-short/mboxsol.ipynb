{
 "cells": [
  {
   "cell_type": "code",
   "execution_count": 11,
   "metadata": {},
   "outputs": [
    {
     "name": "stdout",
     "output_type": "stream",
     "text": [
      "Average spam confidence: 0.7507185185185187\n"
     ]
    }
   ],
   "source": [
    "f=open(\"mbox-short.txt\",encoding=\"utf-8\")\n",
    "x=f.readlines()\n",
    "c=0\n",
    "sum=0\n",
    "for i in x:\n",
    "    if \"X-DSPAM-Confidence:\" in i:\n",
    "        j=i.split()\n",
    "        sum=sum+float(j[1])\n",
    "        c=c+1\n",
    "print(\"Average spam confidence:\",sum/c)\n",
    "f.close()"
   ]
  },
  {
   "cell_type": "code",
   "execution_count": 17,
   "metadata": {},
   "outputs": [
    {
     "name": "stdout",
     "output_type": "stream",
     "text": [
      "stephen.marquard@uct.ac.za\n",
      "louis@media.berkeley.edu\n",
      "zqian@umich.edu\n",
      "rjlowe@iupui.edu\n",
      "zqian@umich.edu\n",
      "rjlowe@iupui.edu\n",
      "cwen@iupui.edu\n",
      "cwen@iupui.edu\n",
      "gsilver@umich.edu\n",
      "gsilver@umich.edu\n",
      "zqian@umich.edu\n",
      "gsilver@umich.edu\n",
      "wagnermr@iupui.edu\n",
      "zqian@umich.edu\n",
      "antranig@caret.cam.ac.uk\n",
      "gopal.ramasammycook@gmail.com\n",
      "david.horwitz@uct.ac.za\n",
      "david.horwitz@uct.ac.za\n",
      "david.horwitz@uct.ac.za\n",
      "david.horwitz@uct.ac.za\n",
      "stephen.marquard@uct.ac.za\n",
      "louis@media.berkeley.edu\n",
      "louis@media.berkeley.edu\n",
      "ray@media.berkeley.edu\n",
      "cwen@iupui.edu\n",
      "cwen@iupui.edu\n",
      "cwen@iupui.edu\n",
      "There were 27 lines in the file with From as the first word\n"
     ]
    }
   ],
   "source": [
    "f=open(\"mbox-short.txt\",\"r\",encoding=\"utf-8\")\n",
    "x=f.readlines()\n",
    "c=0\n",
    "for i in x:\n",
    "    if \"From \" in i:\n",
    "        j=i.split()\n",
    "        print(j[1])    \n",
    "        c=c+1\n",
    "print(f\"There were {c} lines in the file with From as the first word\")\n",
    "f.close()"
   ]
  },
  {
   "cell_type": "code",
   "execution_count": 30,
   "metadata": {},
   "outputs": [
    {
     "name": "stdout",
     "output_type": "stream",
     "text": [
      "cwen@iupui.edu 5\n"
     ]
    }
   ],
   "source": [
    "f=open(\"mbox-short.txt\",\"r\",encoding=\"utf-8\")\n",
    "x=f.readlines()\n",
    "c=0\n",
    "l=[]\n",
    "d={}\n",
    "for i in x:\n",
    "    if \"From \" in i:\n",
    "        j=i.split()\n",
    "        l.append(j[1])\n",
    "        \n",
    "for i in l:\n",
    "    d[i]=d.get(i,0)+1\n",
    "\n",
    "x=max(d.values())\n",
    "\n",
    "\n",
    "for i,j in d.items():\n",
    "    if j==x:\n",
    "        print(i,j)\n",
    "f.close()"
   ]
  },
  {
   "cell_type": "code",
   "execution_count": 36,
   "metadata": {},
   "outputs": [
    {
     "name": "stdout",
     "output_type": "stream",
     "text": [
      "('04', 3)\n",
      "('06', 1)\n",
      "('07', 1)\n",
      "('09', 2)\n",
      "('10', 3)\n",
      "('11', 6)\n",
      "('14', 1)\n",
      "('15', 2)\n",
      "('16', 4)\n",
      "('17', 2)\n",
      "('18', 1)\n",
      "('19', 1)\n"
     ]
    }
   ],
   "source": [
    "f=open(\"mbox-short.txt\",\"r\",encoding=\"utf-8\")\n",
    "x=f.readlines()\n",
    "c=0\n",
    "l1=[]\n",
    "d={}\n",
    "for i in x:\n",
    "    if \"From \" in i:\n",
    "        j=i.split()\n",
    "        w=j[5].split(\":\")\n",
    "        l1.append(w[0])\n",
    "        \n",
    "for i in l1:\n",
    "    d[i]=d.get(i,0)+1\n",
    "\n",
    "zz=sorted(d.items(),key=lambda x:x[0])\n",
    "\n",
    "for i in zz:\n",
    "    print(i)"
   ]
  },
  {
   "cell_type": "code",
   "execution_count": null,
   "metadata": {},
   "outputs": [],
   "source": []
  }
 ],
 "metadata": {
  "kernelspec": {
   "display_name": "Python 3",
   "language": "python",
   "name": "python3"
  },
  "language_info": {
   "codemirror_mode": {
    "name": "ipython",
    "version": 3
   },
   "file_extension": ".py",
   "mimetype": "text/x-python",
   "name": "python",
   "nbconvert_exporter": "python",
   "pygments_lexer": "ipython3",
   "version": "3.8.5"
  }
 },
 "nbformat": 4,
 "nbformat_minor": 4
}
